{
 "cells": [
  {
   "cell_type": "code",
   "execution_count": 6,
   "metadata": {},
   "outputs": [],
   "source": [
    "import numpy as np\n",
    "import scipy\n",
    "import matplotlib as mpl\n",
    "import matplotlib.pyplot as plt\n",
    "import seaborn as sns"
   ]
  },
  {
   "cell_type": "markdown",
   "metadata": {},
   "source": [
    "The values have min 0.461 Max 265.642.\n",
    "The pixels, placed into 256 buckets, are in `a` below."
   ]
  },
  {
   "cell_type": "code",
   "execution_count": 17,
   "metadata": {},
   "outputs": [],
   "source": [
    "a=\" 73881 42735 184658 414664 823377 734926 532605 487906 287001 232366 208265 80719 118038 77147 72688 35822 28303 20756 43384 15450 25036 11523 9039 0 3488 25232 2937 5511 0 1987 2331 2738 4437 0 25285 5256 1070 949 3535 1017 2608 0 7394 1196 218 0 294 1038 603 0 0 0 266 576 1785 0 0 0 2040 2266 0 0 0 0 0 0 0 0 0 0 0 0 735 0 0 0 0 0 0 0 0 0 0 0 0 0 0 0 0 0 0 0 0 0 0 0 0 412 0 0 0 0 207 0 0 0 0 0 0 0 0 0 0 0 0 0 0 0 0 0 0 0 0 0 0 0 0 0 0 0 0 0 0 0 0 0 0 0 0 0 0 0 0 0 0 0 0 0 0 0 0 43 0 0 0 0 121 0 0 0 0 0 0 0 0 0 0 0 0 0 0 0 0 0 0 0 0 0 0 0 0 0 0 0 0 0 0 0 0 0 0 0 0 0 0 0 0 0 0 0 0 0 0 0 0 0 0 0 0 0 0 0 0 0 0 0 0 0 0 0 0 0 0 67 0 0 0 0 0 0 0 0 0 0 0 0 0 0 0 0 0 0 0 0 0 0 0 0 0 0 0 0 0 0 0 140 \"\n",
    "vals = np.array([int(x) for x in a.split()])\n",
    "bucket_ends = np.linspace(0.461212, 265.642, 257)\n",
    "assert len(bucket_ends) == 257\n",
    "assert len(vals) == 256\n",
    "bucket_mids = 0.5 * (bucket_ends[:-1] + bucket_ends[1:])"
   ]
  },
  {
   "cell_type": "code",
   "execution_count": 18,
   "metadata": {},
   "outputs": [
    {
     "data": {
      "text/plain": [
       "<BarContainer object of 256 artists>"
      ]
     },
     "execution_count": 18,
     "metadata": {},
     "output_type": "execute_result"
    },
    {
     "data": {
      "image/png": "[encoded data removed]",
      "text/plain": [
       "<Figure size 432x288 with 1 Axes>"
      ]
     },
     "metadata": {
      "needs_background": "light"
     },
     "output_type": "display_data"
    }
   ],
   "source": [
    "plt.bar(bucket_mids, height=[np.log(v) if v > 0 else v for v in vals])"
   ]
  },
  {
   "cell_type": "code",
   "execution_count": 16,
   "metadata": {},
   "outputs": [
    {
     "data": {
      "text/plain": [
       "0.011633258191802496"
      ]
     },
     "execution_count": 16,
     "metadata": {},
     "output_type": "execute_result"
    }
   ],
   "source": [
    "total_pixels = 19536 * 20540\n",
    "nonzero_pixels = sum(vals) / total_pixels\n",
    "nonzero_pixels"
   ]
  },
  {
   "cell_type": "code",
   "execution_count": 19,
   "metadata": {},
   "outputs": [
    {
     "data": {
      "text/plain": [
       "823377"
      ]
     },
     "execution_count": 19,
     "metadata": {},
     "output_type": "execute_result"
    }
   ],
   "source": [
    "max(vals)"
   ]
  },
  {
   "cell_type": "code",
   "execution_count": 20,
   "metadata": {},
   "outputs": [
    {
     "data": {
      "text/plain": [
       "array([  0.97914323,   2.01500568,   3.05086813,   4.08673059,\n",
       "         5.12259304,   6.15845549,   7.19431795,   8.2301804 ,\n",
       "         9.26604285,  10.3019053 ,  11.33776776,  12.37363021,\n",
       "        13.40949266,  14.44535512,  15.48121757,  16.51708002,\n",
       "        17.55294248,  18.58880493,  19.62466738,  20.66052984,\n",
       "        21.69639229,  22.73225474,  23.7681172 ,  24.80397965,\n",
       "        25.8398421 ,  26.87570455,  27.91156701,  28.94742946,\n",
       "        29.98329191,  31.01915437,  32.05501682,  33.09087927,\n",
       "        34.12674173,  35.16260418,  36.19846663,  37.23432909,\n",
       "        38.27019154,  39.30605399,  40.34191645,  41.3777789 ,\n",
       "        42.41364135,  43.4495038 ,  44.48536626,  45.52122871,\n",
       "        46.55709116,  47.59295362,  48.62881607,  49.66467852,\n",
       "        50.70054098,  51.73640343,  52.77226588,  53.80812834,\n",
       "        54.84399079,  55.87985324,  56.9157157 ,  57.95157815,\n",
       "        58.9874406 ,  60.02330305,  61.05916551,  62.09502796,\n",
       "        63.13089041,  64.16675287,  65.20261532,  66.23847777,\n",
       "        67.27434023,  68.31020268,  69.34606513,  70.38192759,\n",
       "        71.41779004,  72.45365249,  73.48951495,  74.5253774 ,\n",
       "        75.56123985,  76.5971023 ,  77.63296476,  78.66882721,\n",
       "        79.70468966,  80.74055212,  81.77641457,  82.81227702,\n",
       "        83.84813948,  84.88400193,  85.91986438,  86.95572684,\n",
       "        87.99158929,  89.02745174,  90.0633142 ,  91.09917665,\n",
       "        92.1350391 ,  93.17090155,  94.20676401,  95.24262646,\n",
       "        96.27848891,  97.31435137,  98.35021382,  99.38607627,\n",
       "       100.42193873, 101.45780118, 102.49366363, 103.52952609,\n",
       "       104.56538854, 105.60125099, 106.63711345, 107.6729759 ,\n",
       "       108.70883835, 109.7447008 , 110.78056326, 111.81642571,\n",
       "       112.85228816, 113.88815062, 114.92401307, 115.95987552,\n",
       "       116.99573798, 118.03160043, 119.06746288, 120.10332534,\n",
       "       121.13918779, 122.17505024, 123.2109127 , 124.24677515,\n",
       "       125.2826376 , 126.31850005, 127.35436251, 128.39022496,\n",
       "       129.42608741, 130.46194987, 131.49781232, 132.53367477,\n",
       "       133.56953723, 134.60539968, 135.64126213, 136.67712459,\n",
       "       137.71298704, 138.74884949, 139.78471195, 140.8205744 ,\n",
       "       141.85643685, 142.8922993 , 143.92816176, 144.96402421,\n",
       "       145.99988666, 147.03574912, 148.07161157, 149.10747402,\n",
       "       150.14333648, 151.17919893, 152.21506138, 153.25092384,\n",
       "       154.28678629, 155.32264874, 156.3585112 , 157.39437365,\n",
       "       158.4302361 , 159.46609855, 160.50196101, 161.53782346,\n",
       "       162.57368591, 163.60954837, 164.64541082, 165.68127327,\n",
       "       166.71713573, 167.75299818, 168.78886063, 169.82472309,\n",
       "       170.86058554, 171.89644799, 172.93231045, 173.9681729 ,\n",
       "       175.00403535, 176.0398978 , 177.07576026, 178.11162271,\n",
       "       179.14748516, 180.18334762, 181.21921007, 182.25507252,\n",
       "       183.29093498, 184.32679743, 185.36265988, 186.39852234,\n",
       "       187.43438479, 188.47024724, 189.5061097 , 190.54197215,\n",
       "       191.5778346 , 192.61369705, 193.64955951, 194.68542196,\n",
       "       195.72128441, 196.75714687, 197.79300932, 198.82887177,\n",
       "       199.86473423, 200.90059668, 201.93645913, 202.97232159,\n",
       "       204.00818404, 205.04404649, 206.07990895, 207.1157714 ,\n",
       "       208.15163385, 209.1874963 , 210.22335876, 211.25922121,\n",
       "       212.29508366, 213.33094612, 214.36680857, 215.40267102,\n",
       "       216.43853348, 217.47439593, 218.51025838, 219.54612084,\n",
       "       220.58198329, 221.61784574, 222.6537082 , 223.68957065,\n",
       "       224.7254331 , 225.76129555, 226.79715801, 227.83302046,\n",
       "       228.86888291, 229.90474537, 230.94060782, 231.97647027,\n",
       "       233.01233273, 234.04819518, 235.08405763, 236.11992009,\n",
       "       237.15578254, 238.19164499, 239.22750745, 240.2633699 ,\n",
       "       241.29923235, 242.3350948 , 243.37095726, 244.40681971,\n",
       "       245.44268216, 246.47854462, 247.51440707, 248.55026952,\n",
       "       249.58613198, 250.62199443, 251.65785688, 252.69371934,\n",
       "       253.72958179, 254.76544424, 255.8013067 , 256.83716915,\n",
       "       257.8730316 , 258.90889405, 259.94475651, 260.98061896,\n",
       "       262.01648141, 263.05234387, 264.08820632, 265.12406877])"
      ]
     },
     "execution_count": 20,
     "metadata": {},
     "output_type": "execute_result"
    }
   ],
   "source": [
    "bucket_mids"
   ]
  },
  {
   "cell_type": "code",
   "execution_count": null,
   "metadata": {},
   "outputs": [],
   "source": []
  }
 ],
 "metadata": {
  "kernelspec": {
   "display_name": "Python 3",
   "language": "python",
   "name": "python3"
  },
  "language_info": {
   "codemirror_mode": {
    "name": "ipython",
    "version": 3
   },
   "file_extension": ".py",
   "mimetype": "text/x-python",
   "name": "python",
   "nbconvert_exporter": "python",
   "pygments_lexer": "ipython3",
   "version": "3.7.1"
  }
 },
 "nbformat": 4,
 "nbformat_minor": 2
}
